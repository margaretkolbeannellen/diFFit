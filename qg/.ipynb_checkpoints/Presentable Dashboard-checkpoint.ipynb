{
 "cells": [
  {
   "cell_type": "markdown",
   "metadata": {},
   "source": [
    "# XRD Analysis"
   ]
  },
  {
   "cell_type": "markdown",
   "metadata": {},
   "source": [
    "## Imports\n",
    "* libraries \n",
    "* from python file"
   ]
  },
  {
   "cell_type": "code",
   "execution_count": 3,
   "metadata": {},
   "outputs": [],
   "source": [
    "import pandas as pd\n",
    "import fabio\n",
    "import pyFAI\n",
    "\n",
    "import dash\n",
    "import dash_bootstrap_components as dbc\n",
    "import dash_html_components as html\n",
    "import dash_core_components as dcc\n",
    "from dash.dependencies import Input, Output, State\n",
    "\n",
    "from XRD_methods import *"
   ]
  },
  {
   "cell_type": "markdown",
   "metadata": {},
   "source": [
    "## Parameters"
   ]
  },
  {
   "cell_type": "code",
   "execution_count": 4,
   "metadata": {},
   "outputs": [],
   "source": [
    "miller_indices = {\n",
    "    'FCC': (\n",
    "        [1, 1, 1],\n",
    "        [2, 0, 0],\n",
    "        [2, 2, 0],\n",
    "        [3, 1, 1],\n",
    "        [2, 2, 2],\n",
    "        [4, 0, 0],\n",
    "        [3, 3, 1],\n",
    "        [4, 2, 0],\n",
    "        [4, 2, 2],\n",
    "        [3, 3, 3],\n",
    "    )\n",
    "}"
   ]
  },
  {
   "cell_type": "code",
   "execution_count": 5,
   "metadata": {},
   "outputs": [],
   "source": [
    "lamb1 = 0.3905 "
   ]
  },
  {
   "cell_type": "code",
   "execution_count": 6,
   "metadata": {},
   "outputs": [],
   "source": [
    "a = 3.6150 "
   ]
  },
  {
   "cell_type": "code",
   "execution_count": 7,
   "metadata": {},
   "outputs": [],
   "source": [
    "d0 = d_from_hkl(miller_indices['FCC'], a)"
   ]
  },
  {
   "cell_type": "code",
   "execution_count": 8,
   "metadata": {},
   "outputs": [],
   "source": [
    "tth0 = tth_from_d(d0, lamb1)"
   ]
  },
  {
   "cell_type": "markdown",
   "metadata": {},
   "source": [
    "## Files"
   ]
  },
  {
   "cell_type": "code",
   "execution_count": 9,
   "metadata": {},
   "outputs": [],
   "source": [
    "poni = 'C:/Users/starlord/Desktop/Summer Research 2020/App/diFFit/qg/ceria_callibration_geometry.poni'\n",
    "\n",
    "rolled_file = \"C:/Users/starlord/Desktop/Summer Research 2020/App/diFFit/qg/images/copper_as_rolled_003.tiff\"\n",
    "annealed_file = \"C:/Users/starlord/Desktop/Summer Research 2020/App/diFFit/qg/images/copper_annealed_002.tiff\"\n",
    "hammered_file = \"C:/Users/starlord/Desktop/Summer Research 2020/App/diFFit/qg/images/copper_hammered_002.tiff\""
   ]
  },
  {
   "cell_type": "code",
   "execution_count": 10,
   "metadata": {},
   "outputs": [],
   "source": [
    "rolled = element(rolled_file)\n",
    "annealed = element(annealed_file)\n",
    "hammered = element(hammered_file)"
   ]
  },
  {
   "cell_type": "markdown",
   "metadata": {},
   "source": [
    "## Filter For Bad Pixels"
   ]
  },
  {
   "cell_type": "code",
   "execution_count": 11,
   "metadata": {},
   "outputs": [],
   "source": [
    "lim = 100000\n",
    "\n",
    "rolled.filt(lim)\n",
    "annealed.filt(lim)\n",
    "hammered.filt(lim)"
   ]
  },
  {
   "cell_type": "markdown",
   "metadata": {},
   "source": [
    "## Integrate to find Relative Intensities"
   ]
  },
  {
   "cell_type": "code",
   "execution_count": 12,
   "metadata": {},
   "outputs": [
    {
     "name": "stderr",
     "output_type": "stream",
     "text": [
      "WARNING:silx.opencl.common:Unable to import pyOpenCl. Please install it from: http://pypi.python.org/pypi/pyopencl\n",
      "WARNING:pyFAI.azimuthalIntegrator:Method requested 'None' not available. Method 'IntegrationMethod(2d int, pseudo split, histogram, cython)' will be used\n",
      "WARNING:pyFAI.azimuthalIntegrator:Method requested 'None' not available. Method 'IntegrationMethod(2d int, pseudo split, histogram, cython)' will be used\n",
      "WARNING:pyFAI.azimuthalIntegrator:Method requested 'None' not available. Method 'IntegrationMethod(2d int, pseudo split, histogram, cython)' will be used\n"
     ]
    }
   ],
   "source": [
    "rolled.hist, rolled.polar = integrateHistAndPolar(rolled.data_filt, poni)\n",
    "annealed.hist, annealed.polar = integrateHistAndPolar(annealed.data_filt, poni)\n",
    "hammered.hist, hammered.polar = integrateHistAndPolar(hammered.data_filt, poni)"
   ]
  },
  {
   "cell_type": "markdown",
   "metadata": {},
   "source": [
    "## Fit the Peaks of the Histogram to Gaussian Curves"
   ]
  },
  {
   "cell_type": "code",
   "execution_count": 13,
   "metadata": {},
   "outputs": [],
   "source": [
    "rolled.ycomps, rolled.fit_values = fit_hist(tth0, rolled.hist['x'], rolled.hist['y'])"
   ]
  },
  {
   "cell_type": "code",
   "execution_count": 14,
   "metadata": {},
   "outputs": [],
   "source": [
    "annealed.ycomps, annealed.fit_values = fit_hist(tth0, annealed.hist['x'], annealed.hist['y'])"
   ]
  },
  {
   "cell_type": "code",
   "execution_count": 15,
   "metadata": {},
   "outputs": [],
   "source": [
    "hammered.ycomps, hammered.fit_values = fit_hist(tth0, hammered.hist['x'], hammered.hist['y'])"
   ]
  },
  {
   "cell_type": "markdown",
   "metadata": {},
   "source": [
    "## Strain\n",
    "$$\n",
    "\\frac{d-d_0}{d_0}\n",
    "$$\n",
    "\n",
    "$$\n",
    "d = \\frac{n \\lambda}{2 \\sin \\theta}\n",
    "$$"
   ]
  },
  {
   "cell_type": "code",
   "execution_count": 16,
   "metadata": {},
   "outputs": [],
   "source": [
    "def d_from_tth(tth,lamb):\n",
    "    theta = np.deg2rad(tth/2)\n",
    "    d = np.empty_like(tth)\n",
    "    for i, theta in enumerate(theta):        \n",
    "        d[i] = (lamb)/(2*np.sin(theta)) \n",
    "    return d"
   ]
  },
  {
   "cell_type": "code",
   "execution_count": 17,
   "metadata": {},
   "outputs": [],
   "source": [
    "rolled.fit_values['d'] = d_from_tth(rolled.fit_values.center.values, lamb1)"
   ]
  },
  {
   "cell_type": "code",
   "execution_count": 18,
   "metadata": {},
   "outputs": [],
   "source": [
    "annealed.fit_values['d'] = d_from_tth(annealed.fit_values.center.values, lamb1)"
   ]
  },
  {
   "cell_type": "code",
   "execution_count": 19,
   "metadata": {},
   "outputs": [],
   "source": [
    "hammered.fit_values['d'] = d_from_tth(hammered.fit_values.center.values, lamb1)"
   ]
  },
  {
   "cell_type": "code",
   "execution_count": 20,
   "metadata": {},
   "outputs": [],
   "source": [
    "rolled.fit_values['strain'] = (rolled.fit_values['d']-d0)/d0"
   ]
  },
  {
   "cell_type": "code",
   "execution_count": 21,
   "metadata": {},
   "outputs": [],
   "source": [
    "annealed.fit_values['strain'] = (annealed.fit_values['d']-d0)/d0"
   ]
  },
  {
   "cell_type": "code",
   "execution_count": 22,
   "metadata": {},
   "outputs": [],
   "source": [
    "hammered.fit_values['strain'] = (hammered.fit_values['d']-d0)/d0"
   ]
  },
  {
   "cell_type": "markdown",
   "metadata": {},
   "source": [
    "## Generate The Figures "
   ]
  },
  {
   "cell_type": "code",
   "execution_count": 23,
   "metadata": {},
   "outputs": [],
   "source": [
    "rolled.gen_figs(tth0)"
   ]
  },
  {
   "cell_type": "code",
   "execution_count": 24,
   "metadata": {},
   "outputs": [],
   "source": [
    "annealed.gen_figs(tth0)"
   ]
  },
  {
   "cell_type": "code",
   "execution_count": 25,
   "metadata": {},
   "outputs": [],
   "source": [
    "hammered.gen_figs(tth0)"
   ]
  },
  {
   "cell_type": "markdown",
   "metadata": {},
   "source": [
    "## Set up the html dashboard to view the results"
   ]
  },
  {
   "cell_type": "code",
   "execution_count": 26,
   "metadata": {},
   "outputs": [],
   "source": [
    "app = dash.Dash(external_stylesheets=[dbc.themes.LITERA])"
   ]
  },
  {
   "cell_type": "code",
   "execution_count": 27,
   "metadata": {},
   "outputs": [],
   "source": [
    "navbar = dbc.Navbar([\n",
    "    dbc.Row(\n",
    "        [dbc.Col([dbc.NavbarBrand(\"XRD Analysis\", className=\"navbar-brand\")])])\n",
    "],\n",
    "                    color='primary',\n",
    "                    className=\"navbar navbar-expand-lg navbar-dark bg-primary\")"
   ]
  },
  {
   "cell_type": "markdown",
   "metadata": {},
   "source": [
    "### Histograms \n",
    "* Raw Data\n",
    "* Fit \n",
    "* predicted centers\n",
    "* table of results"
   ]
  },
  {
   "cell_type": "code",
   "execution_count": 28,
   "metadata": {},
   "outputs": [],
   "source": [
    "histograms = html.Div([\n",
    "    dbc.Row([dbc.Col([dcc.Graph(figure=rolled.hist_fig)], align='center'),]),\n",
    "   \n",
    "    dbc.Row([dbc.Col([dbc.Table.from_dataframe(rolled.fit_values,\n",
    "                                     striped=True,\n",
    "                                     bordered=True,\n",
    "                                     className=\"table-secondary\",\n",
    "                                     size='sm'),]),\n",
    "    ]),\n",
    "    dbc.Row([dbc.Col([dcc.Graph(figure=annealed.hist_fig)], align='center'),]),\n",
    "   \n",
    "    dbc.Row([dbc.Col([dbc.Table.from_dataframe(annealed.fit_values,\n",
    "                                     striped=True,\n",
    "                                     bordered=True,\n",
    "                                     className=\"table-secondary\",\n",
    "                                     size='sm'),]),\n",
    "    ]),\n",
    "    dbc.Row([dbc.Col([dcc.Graph(figure=annealed.hist_fig)], align='center'),]),\n",
    "   \n",
    "    dbc.Row([dbc.Col([dbc.Table.from_dataframe(annealed.fit_values,\n",
    "                                     striped=True,\n",
    "                                     bordered=True,\n",
    "                                     className=\"table-secondary\",\n",
    "                                     size='sm'),]),\n",
    "    ]),\n",
    "])    "
   ]
  },
  {
   "cell_type": "markdown",
   "metadata": {},
   "source": [
    "### Original Images"
   ]
  },
  {
   "cell_type": "code",
   "execution_count": 29,
   "metadata": {},
   "outputs": [],
   "source": [
    "images = html.Div([\n",
    "    dbc.Row([dbc.Col([dcc.Graph(figure=rolled.img_fig)], align='center')]),\n",
    "    dbc.Row([dbc.Col([dcc.Graph(figure=annealed.img_fig)], align='center')]),\n",
    "    dbc.Row([dbc.Col([dcc.Graph(figure=hammered.img_fig)], align='center')]),\n",
    "])"
   ]
  },
  {
   "cell_type": "markdown",
   "metadata": {},
   "source": [
    "### 2D Histograms"
   ]
  },
  {
   "cell_type": "code",
   "execution_count": 30,
   "metadata": {},
   "outputs": [],
   "source": [
    "hists_2D = html.Div([\n",
    "    dbc.Row([dbc.Col([dcc.Graph(figure=rolled.hist_fig_2D)], align='center')]),\n",
    "    dbc.Row(\n",
    "        [dbc.Col([dcc.Graph(figure=annealed.hist_fig_2D)], align='center')]),\n",
    "    dbc.Row(\n",
    "        [dbc.Col([dcc.Graph(figure=hammered.hist_fig_2D)], align='center')]),\n",
    "])"
   ]
  },
  {
   "cell_type": "markdown",
   "metadata": {},
   "source": [
    "### Polar Plots\n",
    "likely to discontinue"
   ]
  },
  {
   "cell_type": "code",
   "execution_count": 31,
   "metadata": {},
   "outputs": [],
   "source": [
    "polar_plots = html.Div([\n",
    "    dbc.Row([\n",
    "        dbc.Col([dcc.Graph(figure=rolled.polar_fig)],\n",
    "                width={\n",
    "                    \"size\": 8,\n",
    "                    \"offset\": 2,\n",
    "                },\n",
    "                align='center')\n",
    "    ]),\n",
    "    dbc.Row([\n",
    "        dbc.Col([dcc.Graph(figure=annealed.polar_fig)],\n",
    "                width={\n",
    "                    \"size\": 8,\n",
    "                    \"offset\": 2\n",
    "                },\n",
    "                align='center')\n",
    "    ]),\n",
    "    dbc.Row([\n",
    "        dbc.Col([dcc.Graph(figure=hammered.polar_fig)],\n",
    "                width={\n",
    "                    \"size\": 8,\n",
    "                    \"offset\": 2\n",
    "                },\n",
    "                align='center')\n",
    "    ]),\n",
    "])"
   ]
  },
  {
   "cell_type": "markdown",
   "metadata": {},
   "source": [
    "## Tabs to switch between types of plots"
   ]
  },
  {
   "cell_type": "code",
   "execution_count": 32,
   "metadata": {},
   "outputs": [],
   "source": [
    "tabs = dbc.Container([\n",
    "    html.Hr(className=\"my-4\"),\n",
    "    dbc.Tabs([\n",
    "        dbc.Tab(label=\"Histograms\", tab_id=\"hist\"),\n",
    "        dbc.Tab(label=\"Polar Plots\", tab_id=\"polar\"),\n",
    "        dbc.Tab(label=\"2D Histograms\", tab_id=\"2D_hist\"),\n",
    "        dbc.Tab(label=\"Images\", tab_id=\"images\"),\n",
    "    ],\n",
    "             id=\"tabs\",\n",
    "             active_tab=\"hist\",\n",
    "             className=\"nav nav-tabs\"),\n",
    "    html.Hr(className=\"my-4\"),\n",
    "    html.Div(id=\"tab_content\"),\n",
    "])"
   ]
  },
  {
   "cell_type": "code",
   "execution_count": 33,
   "metadata": {},
   "outputs": [],
   "source": [
    "app.layout = html.Div(children=[navbar,tabs])"
   ]
  },
  {
   "cell_type": "code",
   "execution_count": 34,
   "metadata": {},
   "outputs": [],
   "source": [
    "@app.callback(Output(\"tab_content\", \"children\"), [Input(\"tabs\", \"active_tab\")])\n",
    "def render_tab_content(active_tab):\n",
    "    if active_tab is not None:\n",
    "        if active_tab == \"hist\":\n",
    "            return histograms\n",
    "        elif active_tab == \"polar\":\n",
    "            return polar_plots\n",
    "        elif active_tab == \"2D_hist\":\n",
    "            return hists_2D\n",
    "        elif active_tab == \"images\":\n",
    "            return images\n",
    "    return html.H1([\"No Tab Selected\"])"
   ]
  },
  {
   "cell_type": "markdown",
   "metadata": {},
   "source": [
    "# Run App locally "
   ]
  },
  {
   "cell_type": "code",
   "execution_count": null,
   "metadata": {
    "scrolled": true
   },
   "outputs": [
    {
     "name": "stdout",
     "output_type": "stream",
     "text": [
      "Dash is running on http://127.0.0.1:8050/\n",
      "\n"
     ]
    },
    {
     "name": "stderr",
     "output_type": "stream",
     "text": [
      "INFO:__main__:Dash is running on http://127.0.0.1:8050/\n",
      "\n"
     ]
    },
    {
     "name": "stdout",
     "output_type": "stream",
     "text": [
      " Warning: This is a development server. Do not use app.run_server\n"
     ]
    },
    {
     "name": "stderr",
     "output_type": "stream",
     "text": [
      "INFO:__main__: Warning: This is a development server. Do not use app.run_server\n"
     ]
    },
    {
     "name": "stdout",
     "output_type": "stream",
     "text": [
      " in production, use a production WSGI server like gunicorn instead.\n",
      "\n"
     ]
    },
    {
     "name": "stderr",
     "output_type": "stream",
     "text": [
      "INFO:__main__: in production, use a production WSGI server like gunicorn instead.\n",
      "\n"
     ]
    },
    {
     "name": "stdout",
     "output_type": "stream",
     "text": [
      " * Serving Flask app \"__main__\" (lazy loading)\n",
      " * Environment: production\n",
      "   WARNING: This is a development server. Do not use it in a production deployment.\n",
      "   Use a production WSGI server instead.\n",
      " * Debug mode: off\n"
     ]
    },
    {
     "name": "stderr",
     "output_type": "stream",
     "text": [
      "INFO:werkzeug: * Running on http://127.0.0.1:8050/ (Press CTRL+C to quit)\n"
     ]
    }
   ],
   "source": [
    "if __name__ == '__main__':\n",
    "    app.run_server(debug=False)  "
   ]
  }
 ],
 "metadata": {
  "kernelspec": {
   "display_name": "Python 3",
   "language": "python",
   "name": "python3"
  },
  "language_info": {
   "codemirror_mode": {
    "name": "ipython",
    "version": 3
   },
   "file_extension": ".py",
   "mimetype": "text/x-python",
   "name": "python",
   "nbconvert_exporter": "python",
   "pygments_lexer": "ipython3",
   "version": "3.7.6"
  }
 },
 "nbformat": 4,
 "nbformat_minor": 4
}
