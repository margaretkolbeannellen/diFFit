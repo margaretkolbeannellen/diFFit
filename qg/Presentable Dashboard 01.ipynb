{
 "cells": [
  {
   "cell_type": "markdown",
   "metadata": {},
   "source": [
    "# XRD Analysis"
   ]
  },
  {
   "cell_type": "markdown",
   "metadata": {},
   "source": [
    "## Imports\n",
    "* libraries \n",
    "* from python file"
   ]
  },
  {
   "cell_type": "code",
   "execution_count": 1,
   "metadata": {},
   "outputs": [],
   "source": [
    "import pandas as pd\n",
    "import fabio\n",
    "import pyFAI\n",
    "\n",
    "from XRD_methods_02 import *\n",
    "\n",
    "import dash\n",
    "import dash_bootstrap_components as dbc\n",
    "import dash_html_components as html\n",
    "import dash_core_components as dcc\n",
    "from dash.dependencies import Input, Output, State"
   ]
  },
  {
   "cell_type": "markdown",
   "metadata": {},
   "source": [
    "## Files\n",
    "\n",
    "build a class to keep everything together?"
   ]
  },
  {
   "cell_type": "code",
   "execution_count": 2,
   "metadata": {},
   "outputs": [],
   "source": [
    "poni = 'ceria_callibration_geometry.poni'"
   ]
  },
  {
   "cell_type": "code",
   "execution_count": 3,
   "metadata": {},
   "outputs": [],
   "source": [
    "rolled_file = \"C:/Users/starlord/Desktop/Summer Research 2020/App/images/copper_as_rolled_003.tiff\"\n",
    "annealed_file = \"C:/Users/starlord/Desktop/Summer Research 2020/App/images/copper_annealed_002.tiff\"\n",
    "hammered_file = \"C:/Users/starlord/Desktop/Summer Research 2020/App/images/copper_hammered_002.tiff\""
   ]
  },
  {
   "cell_type": "code",
   "execution_count": 4,
   "metadata": {},
   "outputs": [],
   "source": [
    "rolled = element(rolled_file)\n",
    "annealed = element(annealed_file)\n",
    "hammered = element(hammered_file)"
   ]
  },
  {
   "cell_type": "markdown",
   "metadata": {},
   "source": [
    "I think I should add the parameters to be set during the creation of the element as it is useless without them and I will need to set them every time. "
   ]
  },
  {
   "cell_type": "markdown",
   "metadata": {},
   "source": [
    "## Parameters\n",
    "* hkl\n",
    "* lambda\n",
    "* lattice side length\n",
    "* spectrum dictionary with best guesses - write something to generate this"
   ]
  },
  {
   "cell_type": "code",
   "execution_count": 5,
   "metadata": {},
   "outputs": [],
   "source": [
    "hkls = [\n",
    "    [1, 1, 1],\n",
    "    [2, 0, 0],\n",
    "    [2, 2, 0],\n",
    "    [3, 1, 1],\n",
    "    [2, 2, 2],\n",
    "    [4, 0, 0],\n",
    "    [3, 3, 1],\n",
    "    [4, 2, 0],\n",
    "    [4, 2, 2],\n",
    "    [3, 3, 3],\n",
    "]"
   ]
  },
  {
   "cell_type": "markdown",
   "metadata": {},
   "source": [
    "This is the wavelength of the x ray "
   ]
  },
  {
   "cell_type": "code",
   "execution_count": 6,
   "metadata": {},
   "outputs": [],
   "source": [
    "lamb1 = 0.3905 "
   ]
  },
  {
   "cell_type": "markdown",
   "metadata": {},
   "source": [
    "This is the lattice parameter"
   ]
  },
  {
   "cell_type": "code",
   "execution_count": 7,
   "metadata": {},
   "outputs": [],
   "source": [
    "a = 3.6150 "
   ]
  },
  {
   "cell_type": "code",
   "execution_count": 8,
   "metadata": {},
   "outputs": [],
   "source": [
    "rolled.hkls = annealed.hkls = hammered.hkls = hkls"
   ]
  },
  {
   "cell_type": "code",
   "execution_count": 9,
   "metadata": {},
   "outputs": [],
   "source": [
    "rolled.lamb = annealed.lamb = hammered.lamb = lamb1"
   ]
  },
  {
   "cell_type": "code",
   "execution_count": 10,
   "metadata": {},
   "outputs": [],
   "source": [
    "rolled.a = annealed.a = hammered.a = a"
   ]
  },
  {
   "cell_type": "markdown",
   "metadata": {},
   "source": [
    "There is nothing incredibly special about these functions so they might as well be run behind the scenes."
   ]
  },
  {
   "cell_type": "code",
   "execution_count": 11,
   "metadata": {},
   "outputs": [],
   "source": [
    "rolled.d = annealed.d = hammered.d = d_from_hkl(hkls, a)"
   ]
  },
  {
   "cell_type": "code",
   "execution_count": 12,
   "metadata": {},
   "outputs": [],
   "source": [
    "rolled.tth = annealed.tth = hammered.tth = tth_from_d(rolled.d, rolled.lamb)"
   ]
  },
  {
   "cell_type": "markdown",
   "metadata": {},
   "source": [
    "## Filter"
   ]
  },
  {
   "cell_type": "markdown",
   "metadata": {},
   "source": [
    "A few of the pixels in the image are faulty and give us bad results. Filtering out these extreme values will give us more accurate results.\n",
    "I believe this can also be done when creating the poni file. "
   ]
  },
  {
   "cell_type": "code",
   "execution_count": 13,
   "metadata": {},
   "outputs": [],
   "source": [
    "lim = 100000\n",
    "\n",
    "rolled.filt(lim)\n",
    "annealed.filt(lim)\n",
    "hammered.filt(lim)"
   ]
  },
  {
   "cell_type": "code",
   "execution_count": null,
   "metadata": {},
   "outputs": [],
   "source": []
  },
  {
   "cell_type": "markdown",
   "metadata": {},
   "source": [
    "## Integrate"
   ]
  },
  {
   "cell_type": "markdown",
   "metadata": {},
   "source": [
    "I feel comfortable leaving this outside of the class because it is a very important step. \n",
    "\n",
    "Maybe I can incorporate the filtering within this function. "
   ]
  },
  {
   "cell_type": "markdown",
   "metadata": {},
   "source": [
    "For some reason pyOpenCl still doesn't work. Fixing this should speed up calculations. "
   ]
  },
  {
   "cell_type": "code",
   "execution_count": 14,
   "metadata": {
    "scrolled": true
   },
   "outputs": [
    {
     "name": "stderr",
     "output_type": "stream",
     "text": [
      "WARNING:silx.opencl.common:Unable to import pyOpenCl. Please install it from: http://pypi.python.org/pypi/pyopencl\n",
      "WARNING:pyFAI.azimuthalIntegrator:Method requested 'None' not available. Method 'IntegrationMethod(2d int, pseudo split, histogram, cython)' will be used\n"
     ]
    }
   ],
   "source": [
    "rolled.res, rolled.res2 = process(rolled.data_filt, poni)"
   ]
  },
  {
   "cell_type": "code",
   "execution_count": 15,
   "metadata": {},
   "outputs": [
    {
     "name": "stderr",
     "output_type": "stream",
     "text": [
      "WARNING:pyFAI.azimuthalIntegrator:Method requested 'None' not available. Method 'IntegrationMethod(2d int, pseudo split, histogram, cython)' will be used\n"
     ]
    }
   ],
   "source": [
    "annealed.res, annealed.res2 = process(annealed.data_filt, poni)"
   ]
  },
  {
   "cell_type": "code",
   "execution_count": 16,
   "metadata": {},
   "outputs": [
    {
     "name": "stderr",
     "output_type": "stream",
     "text": [
      "WARNING:pyFAI.azimuthalIntegrator:Method requested 'None' not available. Method 'IntegrationMethod(2d int, pseudo split, histogram, cython)' will be used\n"
     ]
    }
   ],
   "source": [
    "hammered.res, hammered.res2 = process(annealed.data_filt, poni)"
   ]
  },
  {
   "cell_type": "markdown",
   "metadata": {},
   "source": [
    "## Fit Peaks"
   ]
  },
  {
   "cell_type": "markdown",
   "metadata": {},
   "source": [
    "Creat a model of the spectrum\n",
    "this contains guesses where the peaks are and a histogram of the actual data"
   ]
  },
  {
   "cell_type": "code",
   "execution_count": 17,
   "metadata": {},
   "outputs": [],
   "source": [
    "rolled.spec = create_spectrum(rolled.tth, rolled.res[0], rolled.res[1])"
   ]
  },
  {
   "cell_type": "code",
   "execution_count": 18,
   "metadata": {},
   "outputs": [],
   "source": [
    "annealed.spec = create_spectrum(annealed.tth, annealed.res[0], annealed.res[1])"
   ]
  },
  {
   "cell_type": "code",
   "execution_count": 19,
   "metadata": {},
   "outputs": [],
   "source": [
    "hammered.spec = create_spectrum(hammered.tth, hammered.res[0], hammered.res[1])"
   ]
  },
  {
   "cell_type": "markdown",
   "metadata": {},
   "source": [
    "This updates using scipys find peaks function. it might be redundant "
   ]
  },
  {
   "cell_type": "code",
   "execution_count": 20,
   "metadata": {
    "scrolled": true
   },
   "outputs": [],
   "source": [
    "rolled.peaks = update_spec_from_peaks(rolled.spec)"
   ]
  },
  {
   "cell_type": "code",
   "execution_count": 21,
   "metadata": {},
   "outputs": [],
   "source": [
    "annealed.peaks = update_spec_from_peaks(annealed.spec)"
   ]
  },
  {
   "cell_type": "code",
   "execution_count": 22,
   "metadata": {},
   "outputs": [],
   "source": [
    "hammered.peaks = update_spec_from_peaks(hammered.spec)"
   ]
  },
  {
   "cell_type": "markdown",
   "metadata": {},
   "source": [
    "#### This is where the magic actually happens"
   ]
  },
  {
   "cell_type": "markdown",
   "metadata": {},
   "source": [
    "Get the model and the params to use in the fit"
   ]
  },
  {
   "cell_type": "code",
   "execution_count": 23,
   "metadata": {},
   "outputs": [],
   "source": [
    "rolled.model, rolled.params = generate_model(rolled.spec)"
   ]
  },
  {
   "cell_type": "code",
   "execution_count": 24,
   "metadata": {},
   "outputs": [],
   "source": [
    "annealed.model, annealed.params = generate_model(annealed.spec)"
   ]
  },
  {
   "cell_type": "code",
   "execution_count": 25,
   "metadata": {},
   "outputs": [],
   "source": [
    "hammered.model, hammered.params = generate_model(hammered.spec)"
   ]
  },
  {
   "cell_type": "markdown",
   "metadata": {},
   "source": [
    "Perform the fit and extract the results.\n",
    "\n",
    "The ycomps variable can be plotted over the histogram (vs the x of the histogram) it is a list with one component (array) for each peak \n",
    "\n",
    "the params are the centers and widths of each peak."
   ]
  },
  {
   "cell_type": "code",
   "execution_count": 26,
   "metadata": {},
   "outputs": [],
   "source": [
    "rolled.ycomps, rolled.best_values = get_output(\n",
    "    rolled.model,\n",
    "    rolled.params,\n",
    "    rolled.res[0],\n",
    "    rolled.res[1],\n",
    "    rolled.spec,\n",
    ")"
   ]
  },
  {
   "cell_type": "code",
   "execution_count": 27,
   "metadata": {},
   "outputs": [],
   "source": [
    "annealed.ycomps, annealed.best_values = get_output(\n",
    "    annealed.model,\n",
    "    annealed.params,\n",
    "    annealed.res[0],\n",
    "    annealed.res[1],\n",
    "    annealed.spec,\n",
    ")"
   ]
  },
  {
   "cell_type": "code",
   "execution_count": 28,
   "metadata": {},
   "outputs": [],
   "source": [
    "hammered.ycomps, hammered.best_values = get_output(\n",
    "    hammered.model,\n",
    "    hammered.params,\n",
    "    hammered.res[0],\n",
    "    hammered.res[1],\n",
    "    hammered.spec,\n",
    ")"
   ]
  },
  {
   "cell_type": "markdown",
   "metadata": {},
   "source": [
    "## Generate Figs\n",
    "* images\n",
    "* histograms\n",
    "* 2D histograms\n",
    "* scatter polars\n"
   ]
  },
  {
   "cell_type": "code",
   "execution_count": 29,
   "metadata": {},
   "outputs": [],
   "source": [
    "rolled.gen_figs()"
   ]
  },
  {
   "cell_type": "code",
   "execution_count": 30,
   "metadata": {},
   "outputs": [],
   "source": [
    "annealed.gen_figs()"
   ]
  },
  {
   "cell_type": "code",
   "execution_count": 31,
   "metadata": {},
   "outputs": [],
   "source": [
    "hammered.gen_figs()"
   ]
  },
  {
   "cell_type": "code",
   "execution_count": 32,
   "metadata": {},
   "outputs": [],
   "source": [
    "#rolled.img_fig.show()\n",
    "#rolled.hist_fig.show()"
   ]
  },
  {
   "cell_type": "markdown",
   "metadata": {},
   "source": [
    "## Structure App"
   ]
  },
  {
   "cell_type": "markdown",
   "metadata": {},
   "source": [
    "This is honestly just a lot of html and css"
   ]
  },
  {
   "cell_type": "code",
   "execution_count": 33,
   "metadata": {},
   "outputs": [],
   "source": [
    "app = dash.Dash(external_stylesheets=[dbc.themes.LITERA])"
   ]
  },
  {
   "cell_type": "markdown",
   "metadata": {},
   "source": [
    "### Navbar"
   ]
  },
  {
   "cell_type": "code",
   "execution_count": 34,
   "metadata": {},
   "outputs": [],
   "source": [
    "navbar = dbc.Navbar([\n",
    "    dbc.Row(\n",
    "        [dbc.Col([dbc.NavbarBrand(\"XRD Analysis\", className=\"navbar-brand\")])])\n",
    "],\n",
    "                    color='primary',\n",
    "                    className=\"navbar navbar-expand-lg navbar-dark bg-primary\")"
   ]
  },
  {
   "cell_type": "markdown",
   "metadata": {},
   "source": [
    "### Histograms"
   ]
  },
  {
   "cell_type": "markdown",
   "metadata": {},
   "source": [
    "I am not sure if this step belongs here. Seems fitting for now"
   ]
  },
  {
   "cell_type": "code",
   "execution_count": 35,
   "metadata": {},
   "outputs": [],
   "source": [
    "rolled.df = get_vals_df(rolled.spec, rolled.best_values)"
   ]
  },
  {
   "cell_type": "code",
   "execution_count": 36,
   "metadata": {},
   "outputs": [],
   "source": [
    "annealed.df = get_vals_df(annealed.spec, annealed.best_values)"
   ]
  },
  {
   "cell_type": "code",
   "execution_count": 37,
   "metadata": {},
   "outputs": [],
   "source": [
    "hammered.df = get_vals_df(hammered.spec, hammered.best_values)"
   ]
  },
  {
   "cell_type": "code",
   "execution_count": 38,
   "metadata": {},
   "outputs": [],
   "source": [
    "rolled.df = rolled.df.round(decimals=3)\n",
    "annealed.df = annealed.df.round(decimals=3)\n",
    "hammered.df = hammered.df.round(decimals=3)"
   ]
  },
  {
   "cell_type": "markdown",
   "metadata": {},
   "source": [
    "#### This will be the first page that loads. \n",
    "It has all of the important results as well as it is light on the rendering side."
   ]
  },
  {
   "cell_type": "code",
   "execution_count": 39,
   "metadata": {},
   "outputs": [],
   "source": [
    "histograms = html.Div([\n",
    "    dbc.Row([\n",
    "        dbc.Col([dcc.Graph(figure=rolled.hist_fig)], align='center'),\n",
    "        dbc.Col([\n",
    "            dbc.Table.from_dataframe(rolled.df,\n",
    "                                     striped=True,\n",
    "                                     bordered=True,\n",
    "                                     className=\"table-secondary\",\n",
    "                                     size='sm'),\n",
    "        ]),\n",
    "    ]),\n",
    "    html.Hr(className=\"my-4\"),\n",
    "    dbc.Row([\n",
    "        dbc.Col([dcc.Graph(figure=annealed.hist_fig)], align='center'),\n",
    "        dbc.Col([\n",
    "            dbc.Table.from_dataframe(annealed.df,\n",
    "                                     striped=True,\n",
    "                                     bordered=True,\n",
    "                                     className=\"table-secondary\",\n",
    "                                     size='sm'),\n",
    "        ]),\n",
    "    ]),\n",
    "    html.Hr(className=\"my-4\"),\n",
    "    dbc.Row([\n",
    "        dbc.Col([dcc.Graph(figure=hammered.hist_fig)], align='center'),\n",
    "        dbc.Col([\n",
    "            dbc.Table.from_dataframe(hammered.df,\n",
    "                                     striped=True,\n",
    "                                     bordered=True,\n",
    "                                     className=\"table-secondary\",\n",
    "                                     size='sm'),\n",
    "        ]),\n",
    "    ]),\n",
    "])"
   ]
  },
  {
   "cell_type": "markdown",
   "metadata": {},
   "source": [
    "### Images"
   ]
  },
  {
   "cell_type": "code",
   "execution_count": 40,
   "metadata": {},
   "outputs": [],
   "source": [
    "images = html.Div([\n",
    "    dbc.Row([dbc.Col([dcc.Graph(figure=rolled.img_fig)], align='center')]),\n",
    "    dbc.Row([dbc.Col([dcc.Graph(figure=annealed.img_fig)], align='center')]),\n",
    "    dbc.Row([dbc.Col([dcc.Graph(figure=hammered.img_fig)], align='center')]),\n",
    "])"
   ]
  },
  {
   "cell_type": "markdown",
   "metadata": {},
   "source": [
    "### 2D Histograms"
   ]
  },
  {
   "cell_type": "code",
   "execution_count": 41,
   "metadata": {},
   "outputs": [],
   "source": [
    "hists_2D = html.Div([\n",
    "    dbc.Row([dbc.Col([dcc.Graph(figure=rolled.hist_fig_2D)], align='center')]),\n",
    "    dbc.Row(\n",
    "        [dbc.Col([dcc.Graph(figure=annealed.hist_fig_2D)], align='center')]),\n",
    "    dbc.Row(\n",
    "        [dbc.Col([dcc.Graph(figure=hammered.hist_fig_2D)], align='center')]),\n",
    "])"
   ]
  },
  {
   "cell_type": "markdown",
   "metadata": {},
   "source": [
    "### Polar Plots"
   ]
  },
  {
   "cell_type": "code",
   "execution_count": 42,
   "metadata": {},
   "outputs": [],
   "source": [
    "polar_plots = html.Div([\n",
    "    dbc.Row([\n",
    "        dbc.Col([dcc.Graph(figure=rolled.polar_fig)],\n",
    "                width={\n",
    "                    \"size\": 8,\n",
    "                    \"offset\": 2,\n",
    "                },\n",
    "                align='center')\n",
    "    ]),\n",
    "    dbc.Row([\n",
    "        dbc.Col([dcc.Graph(figure=annealed.polar_fig)],\n",
    "                width={\n",
    "                    \"size\": 8,\n",
    "                    \"offset\": 2\n",
    "                },\n",
    "                align='center')\n",
    "    ]),\n",
    "    dbc.Row([\n",
    "        dbc.Col([dcc.Graph(figure=hammered.polar_fig)],\n",
    "                width={\n",
    "                    \"size\": 8,\n",
    "                    \"offset\": 2\n",
    "                },\n",
    "                align='center')\n",
    "    ]),\n",
    "])"
   ]
  },
  {
   "cell_type": "markdown",
   "metadata": {},
   "source": [
    "### Layout"
   ]
  },
  {
   "cell_type": "code",
   "execution_count": 43,
   "metadata": {},
   "outputs": [],
   "source": [
    "tabs = dbc.Container([\n",
    "    html.Hr(className=\"my-4\"),\n",
    "    dbc.Tabs([\n",
    "        dbc.Tab(label=\"Histograms\", tab_id=\"hist\"),\n",
    "        dbc.Tab(label=\"Polar Plots\", tab_id=\"polar\"),\n",
    "        dbc.Tab(label=\"2D Histograms\", tab_id=\"2D_hist\"),\n",
    "        dbc.Tab(label=\"Images\", tab_id=\"images\"),\n",
    "    ],\n",
    "             id=\"tabs\",\n",
    "             active_tab=\"hist\",\n",
    "             className=\"nav nav-tabs\"),\n",
    "    html.Hr(className=\"my-4\"),\n",
    "    html.Div(id=\"tab_content\"),\n",
    "])"
   ]
  },
  {
   "cell_type": "code",
   "execution_count": 44,
   "metadata": {},
   "outputs": [],
   "source": [
    "app.layout = html.Div(children=[navbar,tabs])"
   ]
  },
  {
   "cell_type": "code",
   "execution_count": null,
   "metadata": {},
   "outputs": [],
   "source": []
  },
  {
   "cell_type": "code",
   "execution_count": null,
   "metadata": {},
   "outputs": [],
   "source": []
  },
  {
   "cell_type": "markdown",
   "metadata": {},
   "source": [
    "## Callbacks \n",
    "* Tabs\n",
    "* Regenerate Figs based on new filtering\n",
    "    * this would be extremely expensive"
   ]
  },
  {
   "cell_type": "code",
   "execution_count": 45,
   "metadata": {},
   "outputs": [],
   "source": [
    "@app.callback(Output(\"tab_content\", \"children\"), [Input(\"tabs\", \"active_tab\")])\n",
    "def render_tab_content(active_tab):\n",
    "    if active_tab is not None:\n",
    "        if active_tab == \"hist\":\n",
    "            return histograms\n",
    "        elif active_tab == \"polar\":\n",
    "            return polar_plots\n",
    "        elif active_tab == \"2D_hist\":\n",
    "            return hists_2D\n",
    "        elif active_tab == \"images\":\n",
    "            return images\n",
    "    return html.H1([\"No Tab Selected\"])"
   ]
  },
  {
   "cell_type": "markdown",
   "metadata": {},
   "source": [
    "## Run App"
   ]
  },
  {
   "cell_type": "code",
   "execution_count": 46,
   "metadata": {
    "scrolled": true
   },
   "outputs": [
    {
     "name": "stdout",
     "output_type": "stream",
     "text": [
      "Dash is running on http://127.0.0.1:8050/\n",
      "\n"
     ]
    },
    {
     "name": "stderr",
     "output_type": "stream",
     "text": [
      "INFO:__main__:Dash is running on http://127.0.0.1:8050/\n",
      "\n"
     ]
    },
    {
     "name": "stdout",
     "output_type": "stream",
     "text": [
      " Warning: This is a development server. Do not use app.run_server\n"
     ]
    },
    {
     "name": "stderr",
     "output_type": "stream",
     "text": [
      "INFO:__main__: Warning: This is a development server. Do not use app.run_server\n"
     ]
    },
    {
     "name": "stdout",
     "output_type": "stream",
     "text": [
      " in production, use a production WSGI server like gunicorn instead.\n",
      "\n"
     ]
    },
    {
     "name": "stderr",
     "output_type": "stream",
     "text": [
      "INFO:__main__: in production, use a production WSGI server like gunicorn instead.\n",
      "\n"
     ]
    },
    {
     "name": "stdout",
     "output_type": "stream",
     "text": [
      " * Serving Flask app \"__main__\" (lazy loading)\n",
      " * Environment: production\n",
      "   WARNING: This is a development server. Do not use it in a production deployment.\n",
      "   Use a production WSGI server instead.\n",
      " * Debug mode: off\n"
     ]
    },
    {
     "name": "stderr",
     "output_type": "stream",
     "text": [
      "INFO:werkzeug: * Running on http://127.0.0.1:8050/ (Press CTRL+C to quit)\n",
      "INFO:werkzeug:127.0.0.1 - - [03/Aug/2020 14:20:50] \"\u001b[37mGET / HTTP/1.1\u001b[0m\" 200 -\n",
      "INFO:werkzeug:127.0.0.1 - - [03/Aug/2020 14:20:50] \"\u001b[37mGET /_dash-component-suites/dash_renderer/polyfill@7.v1_5_1m1593119000.8.7.min.js HTTP/1.1\u001b[0m\" 200 -\n",
      "INFO:werkzeug:127.0.0.1 - - [03/Aug/2020 14:20:50] \"\u001b[37mGET /_dash-component-suites/dash_renderer/react@16.v1_5_1m1593119000.13.0.min.js HTTP/1.1\u001b[0m\" 200 -\n",
      "INFO:werkzeug:127.0.0.1 - - [03/Aug/2020 14:20:50] \"\u001b[37mGET /_dash-component-suites/dash_renderer/react-dom@16.v1_5_1m1593119000.13.0.min.js HTTP/1.1\u001b[0m\" 200 -\n",
      "INFO:werkzeug:127.0.0.1 - - [03/Aug/2020 14:20:50] \"\u001b[37mGET /_dash-component-suites/dash_renderer/prop-types@15.v1_5_1m1593119000.7.2.min.js HTTP/1.1\u001b[0m\" 200 -\n",
      "INFO:werkzeug:127.0.0.1 - - [03/Aug/2020 14:20:50] \"\u001b[37mGET /_dash-component-suites/dash_bootstrap_components/_components/dash_bootstrap_components.v0_10_3m1593163089.min.js HTTP/1.1\u001b[0m\" 200 -\n",
      "INFO:werkzeug:127.0.0.1 - - [03/Aug/2020 14:20:50] \"\u001b[37mGET /_dash-component-suites/dash_core_components/dash_core_components.v1_10_1m1592511349.min.js HTTP/1.1\u001b[0m\" 200 -\n",
      "INFO:werkzeug:127.0.0.1 - - [03/Aug/2020 14:20:50] \"\u001b[37mGET /_dash-component-suites/dash_core_components/dash_core_components-shared.v1_10_1m1592511349.js HTTP/1.1\u001b[0m\" 200 -\n",
      "INFO:werkzeug:127.0.0.1 - - [03/Aug/2020 14:20:50] \"\u001b[37mGET /_dash-component-suites/dash_html_components/dash_html_components.v1_0_3m1585840840.min.js HTTP/1.1\u001b[0m\" 200 -\n",
      "INFO:werkzeug:127.0.0.1 - - [03/Aug/2020 14:20:50] \"\u001b[37mGET /_dash-component-suites/dash_renderer/dash_renderer.v1_5_1m1593119000.min.js HTTP/1.1\u001b[0m\" 200 -\n",
      "INFO:werkzeug:127.0.0.1 - - [03/Aug/2020 14:20:50] \"\u001b[37mGET /_dash-layout HTTP/1.1\u001b[0m\" 200 -\n",
      "INFO:werkzeug:127.0.0.1 - - [03/Aug/2020 14:20:50] \"\u001b[37mGET /_dash-dependencies HTTP/1.1\u001b[0m\" 200 -\n",
      "INFO:werkzeug:127.0.0.1 - - [03/Aug/2020 14:20:51] \"\u001b[37mPOST /_dash-update-component HTTP/1.1\u001b[0m\" 200 -\n",
      "INFO:werkzeug:127.0.0.1 - - [03/Aug/2020 14:20:51] \"\u001b[37mGET /_dash-component-suites/dash_core_components/async-graph.v1_10_1m1592438751.js HTTP/1.1\u001b[0m\" 200 -\n",
      "INFO:werkzeug:127.0.0.1 - - [03/Aug/2020 14:20:51] \"\u001b[37mGET /_dash-component-suites/dash_core_components/async-plotlyjs.v1_10_1m1592438751.js HTTP/1.1\u001b[0m\" 200 -\n"
     ]
    }
   ],
   "source": [
    "if __name__ == '__main__':\n",
    "    app.run_server(debug=False)  "
   ]
  }
 ],
 "metadata": {
  "kernelspec": {
   "display_name": "Python 3",
   "language": "python",
   "name": "python3"
  },
  "language_info": {
   "codemirror_mode": {
    "name": "ipython",
    "version": 3
   },
   "file_extension": ".py",
   "mimetype": "text/x-python",
   "name": "python",
   "nbconvert_exporter": "python",
   "pygments_lexer": "ipython3",
   "version": "3.7.6"
  }
 },
 "nbformat": 4,
 "nbformat_minor": 4
}
